{
 "cells": [
  {
   "cell_type": "code",
   "execution_count": 1,
   "metadata": {},
   "outputs": [],
   "source": [
    "import requests\n",
    "from bs4 import BeautifulSoup"
   ]
  },
  {
   "cell_type": "code",
   "execution_count": 7,
   "metadata": {},
   "outputs": [
    {
     "name": "stdout",
     "output_type": "stream",
     "text": [
      "<div class=\"panel panel-default\" id=\"seven-day-forecast\">\n",
      "<div class=\"panel-heading\">\n",
      "<b>Extended Forecast for</b>\n",
      "<h2 class=\"panel-title\">\n",
      "\t    \t    San Francisco CA\t</h2>\n",
      "</div>\n",
      "<div class=\"panel-body\" id=\"seven-day-forecast-body\">\n",
      "<div id=\"seven-day-forecast-container\"><ul class=\"list-unstyled\" id=\"seven-day-forecast-list\"><li class=\"forecast-tombstone\">\n",
      "<div class=\"tombstone-container\">\n",
      "<p class=\"period-name\">Overnight<br/><br/></p>\n",
      "<p><img alt=\"Overnight: Mostly cloudy, with a low around 51. Southwest wind 3 to 6 mph. \" class=\"forecast-icon\" src=\"newimages/medium/nbkn.png\" title=\"Overnight: Mostly cloudy, with a low around 51. Southwest wind 3 to 6 mph. \"/></p><p class=\"short-desc\">Mostly Cloudy</p><p class=\"temp temp-low\">Low: 51 °F</p></div></li><li class=\"forecast-tombstone\">\n",
      "<div class=\"tombstone-container\">\n",
      "<p class=\"period-name\">Sunday<br/><br/></p>\n",
      "<p><img alt=\"Sunday: Mostly sunny, with a high near 64. Light and variable wind becoming west 9 to 14 mph in the afternoon. Winds could gust as high as 18 mph. \" class=\"forecast-icon\" src=\"newimages/medium/sct.png\" title=\"Sunday: Mostly sunny, with a high near 64. Light and variable wind becoming west 9 to 14 mph in the afternoon. Winds could gust as high as 18 mph. \"/></p><p class=\"short-desc\">Mostly Sunny</p><p class=\"temp temp-high\">High: 64 °F</p></div></li><li class=\"forecast-tombstone\">\n",
      "<div class=\"tombstone-container\">\n",
      "<p class=\"period-name\">Sunday<br/>Night</p>\n",
      "<p><img alt=\"Sunday Night: Partly cloudy, with a low around 51. West southwest wind 7 to 13 mph. \" class=\"forecast-icon\" src=\"newimages/medium/nsct.png\" title=\"Sunday Night: Partly cloudy, with a low around 51. West southwest wind 7 to 13 mph. \"/></p><p class=\"short-desc\">Partly Cloudy</p><p class=\"temp temp-low\">Low: 51 °F</p></div></li><li class=\"forecast-tombstone\">\n",
      "<div class=\"tombstone-container\">\n",
      "<p class=\"period-name\">Monday<br/><br/></p>\n",
      "<p><img alt=\"Monday: Mostly sunny, with a high near 68. Southwest wind 5 to 11 mph. \" class=\"forecast-icon\" src=\"newimages/medium/sct.png\" title=\"Monday: Mostly sunny, with a high near 68. Southwest wind 5 to 11 mph. \"/></p><p class=\"short-desc\">Mostly Sunny</p><p class=\"temp temp-high\">High: 68 °F</p></div></li><li class=\"forecast-tombstone\">\n",
      "<div class=\"tombstone-container\">\n",
      "<p class=\"period-name\">Monday<br/>Night</p>\n",
      "<p><img alt=\"Monday Night: Mostly clear, with a low around 51. West wind 8 to 13 mph becoming light west southwest  in the evening. \" class=\"forecast-icon\" src=\"newimages/medium/nfew.png\" title=\"Monday Night: Mostly clear, with a low around 51. West wind 8 to 13 mph becoming light west southwest  in the evening. \"/></p><p class=\"short-desc\">Mostly Clear</p><p class=\"temp temp-low\">Low: 51 °F</p></div></li><li class=\"forecast-tombstone\">\n",
      "<div class=\"tombstone-container\">\n",
      "<p class=\"period-name\">Tuesday<br/><br/></p>\n",
      "<p><img alt=\"Tuesday: Sunny, with a high near 71.\" class=\"forecast-icon\" src=\"newimages/medium/few.png\" title=\"Tuesday: Sunny, with a high near 71.\"/></p><p class=\"short-desc\">Sunny</p><p class=\"temp temp-high\">High: 71 °F</p></div></li><li class=\"forecast-tombstone\">\n",
      "<div class=\"tombstone-container\">\n",
      "<p class=\"period-name\">Tuesday<br/>Night</p>\n",
      "<p><img alt=\"Tuesday Night: Mostly clear, with a low around 52.\" class=\"forecast-icon\" src=\"newimages/medium/nfew.png\" title=\"Tuesday Night: Mostly clear, with a low around 52.\"/></p><p class=\"short-desc\">Mostly Clear</p><p class=\"temp temp-low\">Low: 52 °F</p></div></li><li class=\"forecast-tombstone\">\n",
      "<div class=\"tombstone-container\">\n",
      "<p class=\"period-name\">Wednesday<br/><br/></p>\n",
      "<p><img alt=\"Wednesday: Sunny, with a high near 68.\" class=\"forecast-icon\" src=\"newimages/medium/few.png\" title=\"Wednesday: Sunny, with a high near 68.\"/></p><p class=\"short-desc\">Sunny</p><p class=\"temp temp-high\">High: 68 °F</p></div></li><li class=\"forecast-tombstone\">\n",
      "<div class=\"tombstone-container\">\n",
      "<p class=\"period-name\">Wednesday<br/>Night</p>\n",
      "<p><img alt=\"Wednesday Night: Mostly clear, with a low around 51.\" class=\"forecast-icon\" src=\"newimages/medium/nfew.png\" title=\"Wednesday Night: Mostly clear, with a low around 51.\"/></p><p class=\"short-desc\">Mostly Clear</p><p class=\"temp temp-low\">Low: 51 °F</p></div></li></ul></div>\n",
      "<script type=\"text/javascript\">\n",
      "// equalize forecast heights\n",
      "$(function () {\n",
      "\tvar maxh = 0;\n",
      "\t$(\".forecast-tombstone .short-desc\").each(function () {\n",
      "\t\tvar h = $(this).height();\n",
      "\t\tif (h > maxh) { maxh = h; }\n",
      "\t});\n",
      "\t$(\".forecast-tombstone .short-desc\").height(maxh);\n",
      "});\n",
      "</script> </div>\n",
      "</div>\n",
      "[]\n"
     ]
    },
    {
     "ename": "IndexError",
     "evalue": "list index out of range",
     "output_type": "error",
     "traceback": [
      "\u001b[1;31m---------------------------------------------------------------------------\u001b[0m",
      "\u001b[1;31mIndexError\u001b[0m                                Traceback (most recent call last)",
      "\u001b[1;32m<ipython-input-7-4ef55cc1d403>\u001b[0m in \u001b[0;36m<module>\u001b[1;34m\u001b[0m\n\u001b[0;32m      8\u001b[0m \u001b[0mforecast_items\u001b[0m\u001b[1;33m=\u001b[0m\u001b[0mseven_day\u001b[0m\u001b[1;33m.\u001b[0m\u001b[0mfind_all\u001b[0m\u001b[1;33m(\u001b[0m\u001b[0mclass_\u001b[0m\u001b[1;33m=\u001b[0m\u001b[1;34m\"tomstone-container\"\u001b[0m\u001b[1;33m)\u001b[0m\u001b[1;33m\u001b[0m\u001b[1;33m\u001b[0m\u001b[0m\n\u001b[0;32m      9\u001b[0m \u001b[0mprint\u001b[0m\u001b[1;33m(\u001b[0m\u001b[0mforecast_items\u001b[0m\u001b[1;33m)\u001b[0m\u001b[1;33m\u001b[0m\u001b[1;33m\u001b[0m\u001b[0m\n\u001b[1;32m---> 10\u001b[1;33m \u001b[0mtonight\u001b[0m\u001b[1;33m=\u001b[0m\u001b[0mforecast_items\u001b[0m\u001b[1;33m[\u001b[0m\u001b[1;36m0\u001b[0m\u001b[1;33m]\u001b[0m\u001b[1;33m\u001b[0m\u001b[1;33m\u001b[0m\u001b[0m\n\u001b[0m\u001b[0;32m     11\u001b[0m \u001b[0mprint\u001b[0m\u001b[1;33m(\u001b[0m\u001b[0mtonight\u001b[0m\u001b[1;33m.\u001b[0m\u001b[0mprettify\u001b[0m\u001b[1;33m(\u001b[0m\u001b[1;33m)\u001b[0m\u001b[1;33m)\u001b[0m\u001b[1;33m\u001b[0m\u001b[1;33m\u001b[0m\u001b[0m\n",
      "\u001b[1;31mIndexError\u001b[0m: list index out of range"
     ]
    }
   ],
   "source": [
    "# creating the object to hold to page source content \n",
    "page = requests.get(\"https://forecast.weather.gov/MapClick.php?lat=37.7772&lon=-122.4168#.XpLOn8gzZPZ\")\n",
    "#print(page)\n",
    "soup = BeautifulSoup(page.content,'html.parser')\n",
    "#print(soup)\n",
    "seven_day = soup.find(id=\"seven-day-forecast\")\n",
    "print(seven_day)\n"
   ]
  },
  {
   "cell_type": "code",
   "execution_count": 8,
   "metadata": {},
   "outputs": [
    {
     "name": "stdout",
     "output_type": "stream",
     "text": [
      "[]\n"
     ]
    },
    {
     "ename": "IndexError",
     "evalue": "list index out of range",
     "output_type": "error",
     "traceback": [
      "\u001b[1;31m---------------------------------------------------------------------------\u001b[0m",
      "\u001b[1;31mIndexError\u001b[0m                                Traceback (most recent call last)",
      "\u001b[1;32m<ipython-input-8-642fceeae778>\u001b[0m in \u001b[0;36m<module>\u001b[1;34m\u001b[0m\n\u001b[0;32m      1\u001b[0m \u001b[0mforecast_items\u001b[0m\u001b[1;33m=\u001b[0m\u001b[0mseven_day\u001b[0m\u001b[1;33m.\u001b[0m\u001b[0mfind_all\u001b[0m\u001b[1;33m(\u001b[0m\u001b[0mclass_\u001b[0m\u001b[1;33m=\u001b[0m\u001b[1;34m\"tombsone-container\"\u001b[0m\u001b[1;33m)\u001b[0m\u001b[1;33m\u001b[0m\u001b[1;33m\u001b[0m\u001b[0m\n\u001b[0;32m      2\u001b[0m \u001b[0mprint\u001b[0m\u001b[1;33m(\u001b[0m\u001b[0mforecast_items\u001b[0m\u001b[1;33m)\u001b[0m\u001b[1;33m\u001b[0m\u001b[1;33m\u001b[0m\u001b[0m\n\u001b[1;32m----> 3\u001b[1;33m \u001b[0mtonight\u001b[0m\u001b[1;33m=\u001b[0m\u001b[0mforecast_items\u001b[0m\u001b[1;33m[\u001b[0m\u001b[1;36m0\u001b[0m\u001b[1;33m]\u001b[0m\u001b[1;33m\u001b[0m\u001b[1;33m\u001b[0m\u001b[0m\n\u001b[0m\u001b[0;32m      4\u001b[0m \u001b[0mprint\u001b[0m\u001b[1;33m(\u001b[0m\u001b[0mtonight\u001b[0m\u001b[1;33m.\u001b[0m\u001b[0mprettify\u001b[0m\u001b[1;33m(\u001b[0m\u001b[1;33m)\u001b[0m\u001b[1;33m)\u001b[0m\u001b[1;33m\u001b[0m\u001b[1;33m\u001b[0m\u001b[0m\n",
      "\u001b[1;31mIndexError\u001b[0m: list index out of range"
     ]
    }
   ],
   "source": []
  },
  {
   "cell_type": "code",
   "execution_count": 9,
   "metadata": {},
   "outputs": [
    {
     "name": "stdout",
     "output_type": "stream",
     "text": [
      "[<div class=\"tombstone-container\">\n",
      "<p class=\"period-name\">Overnight<br/><br/></p>\n",
      "<p><img alt=\"Overnight: Mostly cloudy, with a low around 51. Southwest wind 3 to 6 mph. \" class=\"forecast-icon\" src=\"newimages/medium/nbkn.png\" title=\"Overnight: Mostly cloudy, with a low around 51. Southwest wind 3 to 6 mph. \"/></p><p class=\"short-desc\">Mostly Cloudy</p><p class=\"temp temp-low\">Low: 51 °F</p></div>, <div class=\"tombstone-container\">\n",
      "<p class=\"period-name\">Sunday<br/><br/></p>\n",
      "<p><img alt=\"Sunday: Mostly sunny, with a high near 64. Light and variable wind becoming west 9 to 14 mph in the afternoon. Winds could gust as high as 18 mph. \" class=\"forecast-icon\" src=\"newimages/medium/sct.png\" title=\"Sunday: Mostly sunny, with a high near 64. Light and variable wind becoming west 9 to 14 mph in the afternoon. Winds could gust as high as 18 mph. \"/></p><p class=\"short-desc\">Mostly Sunny</p><p class=\"temp temp-high\">High: 64 °F</p></div>, <div class=\"tombstone-container\">\n",
      "<p class=\"period-name\">Sunday<br/>Night</p>\n",
      "<p><img alt=\"Sunday Night: Partly cloudy, with a low around 51. West southwest wind 7 to 13 mph. \" class=\"forecast-icon\" src=\"newimages/medium/nsct.png\" title=\"Sunday Night: Partly cloudy, with a low around 51. West southwest wind 7 to 13 mph. \"/></p><p class=\"short-desc\">Partly Cloudy</p><p class=\"temp temp-low\">Low: 51 °F</p></div>, <div class=\"tombstone-container\">\n",
      "<p class=\"period-name\">Monday<br/><br/></p>\n",
      "<p><img alt=\"Monday: Mostly sunny, with a high near 68. Southwest wind 5 to 11 mph. \" class=\"forecast-icon\" src=\"newimages/medium/sct.png\" title=\"Monday: Mostly sunny, with a high near 68. Southwest wind 5 to 11 mph. \"/></p><p class=\"short-desc\">Mostly Sunny</p><p class=\"temp temp-high\">High: 68 °F</p></div>, <div class=\"tombstone-container\">\n",
      "<p class=\"period-name\">Monday<br/>Night</p>\n",
      "<p><img alt=\"Monday Night: Mostly clear, with a low around 51. West wind 8 to 13 mph becoming light west southwest  in the evening. \" class=\"forecast-icon\" src=\"newimages/medium/nfew.png\" title=\"Monday Night: Mostly clear, with a low around 51. West wind 8 to 13 mph becoming light west southwest  in the evening. \"/></p><p class=\"short-desc\">Mostly Clear</p><p class=\"temp temp-low\">Low: 51 °F</p></div>, <div class=\"tombstone-container\">\n",
      "<p class=\"period-name\">Tuesday<br/><br/></p>\n",
      "<p><img alt=\"Tuesday: Sunny, with a high near 71.\" class=\"forecast-icon\" src=\"newimages/medium/few.png\" title=\"Tuesday: Sunny, with a high near 71.\"/></p><p class=\"short-desc\">Sunny</p><p class=\"temp temp-high\">High: 71 °F</p></div>, <div class=\"tombstone-container\">\n",
      "<p class=\"period-name\">Tuesday<br/>Night</p>\n",
      "<p><img alt=\"Tuesday Night: Mostly clear, with a low around 52.\" class=\"forecast-icon\" src=\"newimages/medium/nfew.png\" title=\"Tuesday Night: Mostly clear, with a low around 52.\"/></p><p class=\"short-desc\">Mostly Clear</p><p class=\"temp temp-low\">Low: 52 °F</p></div>, <div class=\"tombstone-container\">\n",
      "<p class=\"period-name\">Wednesday<br/><br/></p>\n",
      "<p><img alt=\"Wednesday: Sunny, with a high near 68.\" class=\"forecast-icon\" src=\"newimages/medium/few.png\" title=\"Wednesday: Sunny, with a high near 68.\"/></p><p class=\"short-desc\">Sunny</p><p class=\"temp temp-high\">High: 68 °F</p></div>, <div class=\"tombstone-container\">\n",
      "<p class=\"period-name\">Wednesday<br/>Night</p>\n",
      "<p><img alt=\"Wednesday Night: Mostly clear, with a low around 51.\" class=\"forecast-icon\" src=\"newimages/medium/nfew.png\" title=\"Wednesday Night: Mostly clear, with a low around 51.\"/></p><p class=\"short-desc\">Mostly Clear</p><p class=\"temp temp-low\">Low: 51 °F</p></div>]\n",
      "<div class=\"tombstone-container\">\n",
      " <p class=\"period-name\">\n",
      "  Overnight\n",
      "  <br/>\n",
      "  <br/>\n",
      " </p>\n",
      " <p>\n",
      "  <img alt=\"Overnight: Mostly cloudy, with a low around 51. Southwest wind 3 to 6 mph. \" class=\"forecast-icon\" src=\"newimages/medium/nbkn.png\" title=\"Overnight: Mostly cloudy, with a low around 51. Southwest wind 3 to 6 mph. \"/>\n",
      " </p>\n",
      " <p class=\"short-desc\">\n",
      "  Mostly Cloudy\n",
      " </p>\n",
      " <p class=\"temp temp-low\">\n",
      "  Low: 51 °F\n",
      " </p>\n",
      "</div>\n"
     ]
    }
   ],
   "source": [
    "forecast_items=seven_day.find_all(class_=\"tombstone-container\")\n",
    "print(forecast_items)\n",
    "tonight=forecast_items[0]\n",
    "print(tonight.prettify())"
   ]
  },
  {
   "cell_type": "code",
   "execution_count": 10,
   "metadata": {},
   "outputs": [
    {
     "name": "stdout",
     "output_type": "stream",
     "text": [
      "Overnight\n",
      "Mostly Cloudy\n",
      "Low: 51 °F\n"
     ]
    }
   ],
   "source": [
    "period = tonight.find(class_=\"period-name\").get_text()\n",
    "short_desc = tonight.find(class_=\"short-desc\").get_text()\n",
    "temp = tonight.find(class_=\"temp temp-low\").get_text()\n",
    "\n",
    "print(period)\n",
    "print(short_desc)\n",
    "print(temp)"
   ]
  },
  {
   "cell_type": "code",
   "execution_count": 11,
   "metadata": {},
   "outputs": [
    {
     "name": "stdout",
     "output_type": "stream",
     "text": [
      "Overnight: Mostly cloudy, with a low around 51. Southwest wind 3 to 6 mph. \n"
     ]
    }
   ],
   "source": [
    "img=tonight.find(\"img\")\n",
    "desc=img['title']\n",
    "print(desc)"
   ]
  },
  {
   "cell_type": "code",
   "execution_count": 14,
   "metadata": {},
   "outputs": [
    {
     "ename": "NameError",
     "evalue": "name 'periods_tags' is not defined",
     "output_type": "error",
     "traceback": [
      "\u001b[1;31m---------------------------------------------------------------------------\u001b[0m",
      "\u001b[1;31mNameError\u001b[0m                                 Traceback (most recent call last)",
      "\u001b[1;32m<ipython-input-14-282c7e1621d2>\u001b[0m in \u001b[0;36m<module>\u001b[1;34m\u001b[0m\n\u001b[0;32m      1\u001b[0m \u001b[0mperiod_tags\u001b[0m\u001b[1;33m=\u001b[0m\u001b[0mseven_day\u001b[0m\u001b[1;33m.\u001b[0m\u001b[0mselect\u001b[0m\u001b[1;33m(\u001b[0m\u001b[1;34m\".tombstone-container .period-name\"\u001b[0m\u001b[1;33m)\u001b[0m\u001b[1;33m\u001b[0m\u001b[1;33m\u001b[0m\u001b[0m\n\u001b[1;32m----> 2\u001b[1;33m \u001b[0mperiods\u001b[0m\u001b[1;33m=\u001b[0m\u001b[1;33m[\u001b[0m\u001b[0mpt\u001b[0m\u001b[1;33m.\u001b[0m\u001b[0mget_text\u001b[0m\u001b[1;33m(\u001b[0m\u001b[1;33m)\u001b[0m\u001b[1;32mfor\u001b[0m \u001b[0mpt\u001b[0m \u001b[1;32min\u001b[0m \u001b[0mperiods_tags\u001b[0m\u001b[1;33m]\u001b[0m\u001b[1;33m\u001b[0m\u001b[1;33m\u001b[0m\u001b[0m\n\u001b[0m\u001b[0;32m      3\u001b[0m \u001b[0mprint\u001b[0m\u001b[1;33m(\u001b[0m\u001b[0mperiods\u001b[0m\u001b[1;33m)\u001b[0m\u001b[1;33m\u001b[0m\u001b[1;33m\u001b[0m\u001b[0m\n",
      "\u001b[1;31mNameError\u001b[0m: name 'periods_tags' is not defined"
     ]
    }
   ],
   "source": []
  },
  {
   "cell_type": "code",
   "execution_count": null,
   "metadata": {},
   "outputs": [],
   "source": []
  },
  {
   "cell_type": "code",
   "execution_count": 13,
   "metadata": {},
   "outputs": [
    {
     "name": "stdout",
     "output_type": "stream",
     "text": [
      "['Overnight', 'Sunday', 'SundayNight', 'Monday', 'MondayNight', 'Tuesday', 'TuesdayNight', 'Wednesday', 'WednesdayNight']\n"
     ]
    }
   ],
   "source": [
    "#extracting all values for the period tag from the entire object\n",
    "period_tags = seven_day.select(\".tombstone-container .period-name\")\n",
    "periods = [pt.get_text() for pt in period_tags]\n",
    "print(periods)"
   ]
  },
  {
   "cell_type": "code",
   "execution_count": 15,
   "metadata": {},
   "outputs": [
    {
     "name": "stdout",
     "output_type": "stream",
     "text": [
      "['Mostly Cloudy', 'Mostly Sunny', 'Partly Cloudy', 'Mostly Sunny', 'Mostly Clear', 'Sunny', 'Mostly Clear', 'Sunny', 'Mostly Clear']\n",
      "\n",
      "['Low: 51 °F', 'High: 64 °F', 'Low: 51 °F', 'High: 68 °F', 'Low: 51 °F', 'High: 71 °F', 'Low: 52 °F', 'High: 68 °F', 'Low: 51 °F']\n",
      "\n",
      "['Overnight: Mostly cloudy, with a low around 51. Southwest wind 3 to 6 mph. ', 'Sunday: Mostly sunny, with a high near 64. Light and variable wind becoming west 9 to 14 mph in the afternoon. Winds could gust as high as 18 mph. ', 'Sunday Night: Partly cloudy, with a low around 51. West southwest wind 7 to 13 mph. ', 'Monday: Mostly sunny, with a high near 68. Southwest wind 5 to 11 mph. ', 'Monday Night: Mostly clear, with a low around 51. West wind 8 to 13 mph becoming light west southwest  in the evening. ', 'Tuesday: Sunny, with a high near 71.', 'Tuesday Night: Mostly clear, with a low around 52.', 'Wednesday: Sunny, with a high near 68.', 'Wednesday Night: Mostly clear, with a low around 51.']\n"
     ]
    }
   ],
   "source": [
    "#similarly extracting the other tags also from the entire object\n",
    "short_descs = [sd.get_text() for sd in seven_day.select(\".tombstone-container .short-desc\")]\n",
    "temps = [t.get_text() for t in seven_day.select(\".tombstone-container .temp\")]\n",
    "descs = [d[\"title\"] for d in seven_day.select(\".tombstone-container img\")]\n",
    "print(short_descs)\n",
    "print()\n",
    "print(temps)\n",
    "print()\n",
    "print(descs)"
   ]
  },
  {
   "cell_type": "code",
   "execution_count": 16,
   "metadata": {},
   "outputs": [
    {
     "data": {
      "text/html": [
       "<div>\n",
       "<style scoped>\n",
       "    .dataframe tbody tr th:only-of-type {\n",
       "        vertical-align: middle;\n",
       "    }\n",
       "\n",
       "    .dataframe tbody tr th {\n",
       "        vertical-align: top;\n",
       "    }\n",
       "\n",
       "    .dataframe thead th {\n",
       "        text-align: right;\n",
       "    }\n",
       "</style>\n",
       "<table border=\"1\" class=\"dataframe\">\n",
       "  <thead>\n",
       "    <tr style=\"text-align: right;\">\n",
       "      <th></th>\n",
       "      <th>period</th>\n",
       "      <th>short_desc</th>\n",
       "      <th>temps</th>\n",
       "      <th>desc</th>\n",
       "    </tr>\n",
       "  </thead>\n",
       "  <tbody>\n",
       "    <tr>\n",
       "      <td>0</td>\n",
       "      <td>Overnight</td>\n",
       "      <td>Mostly Cloudy</td>\n",
       "      <td>Low: 51 °F</td>\n",
       "      <td>Overnight: Mostly cloudy, with a low around 51...</td>\n",
       "    </tr>\n",
       "    <tr>\n",
       "      <td>1</td>\n",
       "      <td>Sunday</td>\n",
       "      <td>Mostly Cloudy</td>\n",
       "      <td>High: 64 °F</td>\n",
       "      <td>Sunday: Mostly sunny, with a high near 64. Lig...</td>\n",
       "    </tr>\n",
       "    <tr>\n",
       "      <td>2</td>\n",
       "      <td>SundayNight</td>\n",
       "      <td>Mostly Cloudy</td>\n",
       "      <td>Low: 51 °F</td>\n",
       "      <td>Sunday Night: Partly cloudy, with a low around...</td>\n",
       "    </tr>\n",
       "    <tr>\n",
       "      <td>3</td>\n",
       "      <td>Monday</td>\n",
       "      <td>Mostly Cloudy</td>\n",
       "      <td>High: 68 °F</td>\n",
       "      <td>Monday: Mostly sunny, with a high near 68. Sou...</td>\n",
       "    </tr>\n",
       "    <tr>\n",
       "      <td>4</td>\n",
       "      <td>MondayNight</td>\n",
       "      <td>Mostly Cloudy</td>\n",
       "      <td>Low: 51 °F</td>\n",
       "      <td>Monday Night: Mostly clear, with a low around ...</td>\n",
       "    </tr>\n",
       "    <tr>\n",
       "      <td>5</td>\n",
       "      <td>Tuesday</td>\n",
       "      <td>Mostly Cloudy</td>\n",
       "      <td>High: 71 °F</td>\n",
       "      <td>Tuesday: Sunny, with a high near 71.</td>\n",
       "    </tr>\n",
       "    <tr>\n",
       "      <td>6</td>\n",
       "      <td>TuesdayNight</td>\n",
       "      <td>Mostly Cloudy</td>\n",
       "      <td>Low: 52 °F</td>\n",
       "      <td>Tuesday Night: Mostly clear, with a low around...</td>\n",
       "    </tr>\n",
       "    <tr>\n",
       "      <td>7</td>\n",
       "      <td>Wednesday</td>\n",
       "      <td>Mostly Cloudy</td>\n",
       "      <td>High: 68 °F</td>\n",
       "      <td>Wednesday: Sunny, with a high near 68.</td>\n",
       "    </tr>\n",
       "    <tr>\n",
       "      <td>8</td>\n",
       "      <td>WednesdayNight</td>\n",
       "      <td>Mostly Cloudy</td>\n",
       "      <td>Low: 51 °F</td>\n",
       "      <td>Wednesday Night: Mostly clear, with a low arou...</td>\n",
       "    </tr>\n",
       "  </tbody>\n",
       "</table>\n",
       "</div>"
      ],
      "text/plain": [
       "           period     short_desc        temps  \\\n",
       "0       Overnight  Mostly Cloudy   Low: 51 °F   \n",
       "1          Sunday  Mostly Cloudy  High: 64 °F   \n",
       "2     SundayNight  Mostly Cloudy   Low: 51 °F   \n",
       "3          Monday  Mostly Cloudy  High: 68 °F   \n",
       "4     MondayNight  Mostly Cloudy   Low: 51 °F   \n",
       "5         Tuesday  Mostly Cloudy  High: 71 °F   \n",
       "6    TuesdayNight  Mostly Cloudy   Low: 52 °F   \n",
       "7       Wednesday  Mostly Cloudy  High: 68 °F   \n",
       "8  WednesdayNight  Mostly Cloudy   Low: 51 °F   \n",
       "\n",
       "                                                desc  \n",
       "0  Overnight: Mostly cloudy, with a low around 51...  \n",
       "1  Sunday: Mostly sunny, with a high near 64. Lig...  \n",
       "2  Sunday Night: Partly cloudy, with a low around...  \n",
       "3  Monday: Mostly sunny, with a high near 68. Sou...  \n",
       "4  Monday Night: Mostly clear, with a low around ...  \n",
       "5               Tuesday: Sunny, with a high near 71.  \n",
       "6  Tuesday Night: Mostly clear, with a low around...  \n",
       "7             Wednesday: Sunny, with a high near 68.  \n",
       "8  Wednesday Night: Mostly clear, with a low arou...  "
      ]
     },
     "execution_count": 16,
     "metadata": {},
     "output_type": "execute_result"
    }
   ],
   "source": [
    "import pandas as pd\n",
    "weather = pd.DataFrame({\n",
    "    \"period\":periods,\n",
    "    \"short_desc\":short_desc,\n",
    "    \"temps\":temps,\n",
    "    \"desc\":descs\n",
    "})\n",
    "weather"
   ]
  },
  {
   "cell_type": "code",
   "execution_count": 17,
   "metadata": {},
   "outputs": [
    {
     "name": "stdout",
     "output_type": "stream",
     "text": [
      "                 0                                                  1\n",
      "0        Overnight   Mostly cloudy, with a low around 51. Southwes...\n",
      "1           Sunday   Mostly sunny, with a high near 64. Light and ...\n",
      "2     Sunday Night   Partly cloudy, with a low around 51. West sou...\n",
      "3           Monday   Mostly sunny, with a high near 68. Southwest ...\n",
      "4     Monday Night   Mostly clear, with a low around 51. West wind...\n",
      "5          Tuesday                        Sunny, with a high near 71.\n",
      "6    Tuesday Night                Mostly clear, with a low around 52.\n",
      "7        Wednesday                        Sunny, with a high near 68.\n",
      "8  Wednesday Night                Mostly clear, with a low around 51.\n"
     ]
    }
   ],
   "source": [
    "#splitting the period\n",
    "#desc has the text that contains the value of period also\n",
    "#trying to split the desc string such that the period part is removed\n",
    "new=weather[\"desc\"].str.split(\":\",expand=True)\n",
    "print(new)"
   ]
  },
  {
   "cell_type": "code",
   "execution_count": 18,
   "metadata": {},
   "outputs": [],
   "source": [
    "#fetching the other part and replacing the desc variable\n",
    "weather[\"desc\"]=new[1]"
   ]
  },
  {
   "cell_type": "code",
   "execution_count": 19,
   "metadata": {},
   "outputs": [
    {
     "data": {
      "text/html": [
       "<div>\n",
       "<style scoped>\n",
       "    .dataframe tbody tr th:only-of-type {\n",
       "        vertical-align: middle;\n",
       "    }\n",
       "\n",
       "    .dataframe tbody tr th {\n",
       "        vertical-align: top;\n",
       "    }\n",
       "\n",
       "    .dataframe thead th {\n",
       "        text-align: right;\n",
       "    }\n",
       "</style>\n",
       "<table border=\"1\" class=\"dataframe\">\n",
       "  <thead>\n",
       "    <tr style=\"text-align: right;\">\n",
       "      <th></th>\n",
       "      <th>period</th>\n",
       "      <th>short_desc</th>\n",
       "      <th>temps</th>\n",
       "      <th>desc</th>\n",
       "    </tr>\n",
       "  </thead>\n",
       "  <tbody>\n",
       "    <tr>\n",
       "      <td>0</td>\n",
       "      <td>Overnight</td>\n",
       "      <td>Mostly Cloudy</td>\n",
       "      <td>Low: 51 °F</td>\n",
       "      <td>Mostly cloudy, with a low around 51. Southwes...</td>\n",
       "    </tr>\n",
       "    <tr>\n",
       "      <td>1</td>\n",
       "      <td>Sunday</td>\n",
       "      <td>Mostly Cloudy</td>\n",
       "      <td>High: 64 °F</td>\n",
       "      <td>Mostly sunny, with a high near 64. Light and ...</td>\n",
       "    </tr>\n",
       "    <tr>\n",
       "      <td>2</td>\n",
       "      <td>SundayNight</td>\n",
       "      <td>Mostly Cloudy</td>\n",
       "      <td>Low: 51 °F</td>\n",
       "      <td>Partly cloudy, with a low around 51. West sou...</td>\n",
       "    </tr>\n",
       "    <tr>\n",
       "      <td>3</td>\n",
       "      <td>Monday</td>\n",
       "      <td>Mostly Cloudy</td>\n",
       "      <td>High: 68 °F</td>\n",
       "      <td>Mostly sunny, with a high near 68. Southwest ...</td>\n",
       "    </tr>\n",
       "    <tr>\n",
       "      <td>4</td>\n",
       "      <td>MondayNight</td>\n",
       "      <td>Mostly Cloudy</td>\n",
       "      <td>Low: 51 °F</td>\n",
       "      <td>Mostly clear, with a low around 51. West wind...</td>\n",
       "    </tr>\n",
       "    <tr>\n",
       "      <td>5</td>\n",
       "      <td>Tuesday</td>\n",
       "      <td>Mostly Cloudy</td>\n",
       "      <td>High: 71 °F</td>\n",
       "      <td>Sunny, with a high near 71.</td>\n",
       "    </tr>\n",
       "    <tr>\n",
       "      <td>6</td>\n",
       "      <td>TuesdayNight</td>\n",
       "      <td>Mostly Cloudy</td>\n",
       "      <td>Low: 52 °F</td>\n",
       "      <td>Mostly clear, with a low around 52.</td>\n",
       "    </tr>\n",
       "    <tr>\n",
       "      <td>7</td>\n",
       "      <td>Wednesday</td>\n",
       "      <td>Mostly Cloudy</td>\n",
       "      <td>High: 68 °F</td>\n",
       "      <td>Sunny, with a high near 68.</td>\n",
       "    </tr>\n",
       "    <tr>\n",
       "      <td>8</td>\n",
       "      <td>WednesdayNight</td>\n",
       "      <td>Mostly Cloudy</td>\n",
       "      <td>Low: 51 °F</td>\n",
       "      <td>Mostly clear, with a low around 51.</td>\n",
       "    </tr>\n",
       "  </tbody>\n",
       "</table>\n",
       "</div>"
      ],
      "text/plain": [
       "           period     short_desc        temps  \\\n",
       "0       Overnight  Mostly Cloudy   Low: 51 °F   \n",
       "1          Sunday  Mostly Cloudy  High: 64 °F   \n",
       "2     SundayNight  Mostly Cloudy   Low: 51 °F   \n",
       "3          Monday  Mostly Cloudy  High: 68 °F   \n",
       "4     MondayNight  Mostly Cloudy   Low: 51 °F   \n",
       "5         Tuesday  Mostly Cloudy  High: 71 °F   \n",
       "6    TuesdayNight  Mostly Cloudy   Low: 52 °F   \n",
       "7       Wednesday  Mostly Cloudy  High: 68 °F   \n",
       "8  WednesdayNight  Mostly Cloudy   Low: 51 °F   \n",
       "\n",
       "                                                desc  \n",
       "0   Mostly cloudy, with a low around 51. Southwes...  \n",
       "1   Mostly sunny, with a high near 64. Light and ...  \n",
       "2   Partly cloudy, with a low around 51. West sou...  \n",
       "3   Mostly sunny, with a high near 68. Southwest ...  \n",
       "4   Mostly clear, with a low around 51. West wind...  \n",
       "5                        Sunny, with a high near 71.  \n",
       "6                Mostly clear, with a low around 52.  \n",
       "7                        Sunny, with a high near 68.  \n",
       "8                Mostly clear, with a low around 51.  "
      ]
     },
     "execution_count": 19,
     "metadata": {},
     "output_type": "execute_result"
    }
   ],
   "source": [
    "weather"
   ]
  },
  {
   "cell_type": "code",
   "execution_count": 20,
   "metadata": {},
   "outputs": [],
   "source": [
    "weather.to_excel(\"weather_details.xlsx\",header=True)"
   ]
  },
  {
   "cell_type": "code",
   "execution_count": null,
   "metadata": {},
   "outputs": [],
   "source": []
  },
  {
   "cell_type": "code",
   "execution_count": null,
   "metadata": {},
   "outputs": [],
   "source": []
  },
  {
   "cell_type": "code",
   "execution_count": null,
   "metadata": {},
   "outputs": [],
   "source": []
  },
  {
   "cell_type": "code",
   "execution_count": null,
   "metadata": {},
   "outputs": [],
   "source": []
  },
  {
   "cell_type": "code",
   "execution_count": null,
   "metadata": {},
   "outputs": [],
   "source": []
  },
  {
   "cell_type": "code",
   "execution_count": null,
   "metadata": {},
   "outputs": [],
   "source": []
  }
 ],
 "metadata": {
  "kernelspec": {
   "display_name": "Python 3",
   "language": "python",
   "name": "python3"
  },
  "language_info": {
   "codemirror_mode": {
    "name": "ipython",
    "version": 3
   },
   "file_extension": ".py",
   "mimetype": "text/x-python",
   "name": "python",
   "nbconvert_exporter": "python",
   "pygments_lexer": "ipython3",
   "version": "3.7.4"
  }
 },
 "nbformat": 4,
 "nbformat_minor": 2
}
